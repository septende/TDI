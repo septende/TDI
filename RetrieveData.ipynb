{
 "cells": [
  {
   "cell_type": "code",
   "execution_count": 1,
   "metadata": {},
   "outputs": [],
   "source": [
    "from pycoingecko import CoinGeckoAPI\n",
    "import pandas as pd\n",
    "import numpy as np\n",
    "import time\n",
    "from sklearn.base import BaseEstimator, TransformerMixin\n",
    "from sklearn.compose import ColumnTransformer\n",
    "from datetime import datetime\n",
    "import plotly.express as px"
   ]
  },
  {
   "cell_type": "code",
   "execution_count": 2,
   "metadata": {},
   "outputs": [],
   "source": [
    "# display more info per column\n",
    "pd.set_option('display.max_colwidth',20)"
   ]
  },
  {
   "cell_type": "code",
   "execution_count": 3,
   "metadata": {
    "scrolled": true
   },
   "outputs": [
    {
     "name": "stdout",
     "output_type": "stream",
     "text": [
      "13251\n"
     ]
    }
   ],
   "source": [
    "# returns a Python list, with each element being a dict containing the following keys\n",
    "# 'id', 'symbol', 'name', 'platforms'\n",
    "cg = CoinGeckoAPI()\n",
    "\n",
    "# returns a Python list that contains dictionaries representing individual coins\n",
    "# dict keys contain: 'id', 'symbol', 'name', 'platforms'\n",
    "# e.g. 'id' is 'lyptus-token', 'name' is 'Lyptus Token'\n",
    "\n",
    "coin_list = cg.get_coins_list(include_platform=True)\n",
    "print(len(coin_list)) "
   ]
  },
  {
   "cell_type": "code",
   "execution_count": 4,
   "metadata": {},
   "outputs": [],
   "source": [
    "df_list = pd.DataFrame(coin_list)"
   ]
  },
  {
   "cell_type": "code",
   "execution_count": 6,
   "metadata": {},
   "outputs": [],
   "source": [
    "# 'market_cap_rank','market_data',\n",
    "# excel form doesn't save 'country_origin'\n",
    "\n",
    "mykeys = ['id','symbol','name','asset_platform_id','block_time_in_minutes','hashing_algorithm','categories','country_origin',\n",
    "          'description','genesis_date','sentiment_votes_up_percentage','sentiment_votes_down_percentage',\n",
    "          'market_cap_rank','coingecko_rank','coingecko_score','developer_score','community_score',\n",
    "          'liquidity_score','public_interest_score','community_data','developer_data','public_interest_stats','market_data']\n",
    "\n",
    "delkeys = ['platforms', 'public_notice', 'additional_notices', 'localization', 'links', 'image', 'status_updates' ,\n",
    "           'last_updated', 'tickers']"
   ]
  },
  {
   "cell_type": "code",
   "execution_count": null,
   "metadata": {},
   "outputs": [],
   "source": [
    "# takes over 4 hours to run\n",
    "# save info for all coins in a pandas dataframe\n",
    "# some cells are nested Python dicts\n",
    "\n",
    "mydf = pd.DataFrame.from_dict(cg.get_coin_by_id(allid[0]), orient='index')\n",
    "myname = mydf.loc['id',0]\n",
    "mydf = mydf.rename(columns={0: myname})\n",
    "\n",
    "for myid in allid:\n",
    "    dict = cg.get_coin_by_id(myid)\n",
    "    [dict.pop(mykey) for mykey in delkeys]\n",
    "    tempdf = pd.DataFrame.from_dict(dict, orient='index')\n",
    "    myname = tempdf.loc['id',0]\n",
    "    tempdf = tempdf.rename(columns={0: myname})\n",
    "    #print(tempdf.columns.values)\n",
    "    mydf = mydf.merge(tempdf, right_index=True, left_index=True)\n",
    "    time.sleep(1.2)\n",
    "\n",
    "nowstr = datetime.now().strftime(\"%m%d%Y\")\n",
    "savefilename = 'Coingecko_getcoin_byid_' + nowstr + '.pkl'\n",
    "mydf.to_pickle(savefilename)"
   ]
  },
  {
   "cell_type": "code",
   "execution_count": null,
   "metadata": {},
   "outputs": [],
   "source": [
    "df = pd.read_pickle('Coingecko_getcoin_byid_res.pkl')"
   ]
  },
  {
   "cell_type": "code",
   "execution_count": null,
   "metadata": {},
   "outputs": [],
   "source": []
  },
  {
   "cell_type": "code",
   "execution_count": null,
   "metadata": {},
   "outputs": [],
   "source": []
  },
  {
   "cell_type": "code",
   "execution_count": null,
   "metadata": {
    "scrolled": false
   },
   "outputs": [],
   "source": []
  },
  {
   "cell_type": "code",
   "execution_count": null,
   "metadata": {
    "scrolled": true
   },
   "outputs": [],
   "source": []
  },
  {
   "cell_type": "code",
   "execution_count": null,
   "metadata": {},
   "outputs": [],
   "source": []
  },
  {
   "cell_type": "code",
   "execution_count": null,
   "metadata": {},
   "outputs": [],
   "source": []
  },
  {
   "cell_type": "code",
   "execution_count": null,
   "metadata": {
    "scrolled": false
   },
   "outputs": [],
   "source": []
  },
  {
   "cell_type": "code",
   "execution_count": null,
   "metadata": {},
   "outputs": [],
   "source": []
  }
 ],
 "metadata": {
  "kernelspec": {
   "display_name": "Python 3 (ipykernel)",
   "language": "python",
   "name": "python3"
  },
  "language_info": {
   "codemirror_mode": {
    "name": "ipython",
    "version": 3
   },
   "file_extension": ".py",
   "mimetype": "text/x-python",
   "name": "python",
   "nbconvert_exporter": "python",
   "pygments_lexer": "ipython3",
   "version": "3.10.2"
  }
 },
 "nbformat": 4,
 "nbformat_minor": 4
}
